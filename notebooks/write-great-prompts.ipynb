{
 "cells": [
  {
   "cell_type": "code",
   "execution_count": 1,
   "metadata": {},
   "outputs": [],
   "source": [
    "import ollama\n",
    "\n",
    "MODEL = \"llama3.2\"\n",
    "TEMPERATURE = 0"
   ]
  },
  {
   "cell_type": "code",
   "execution_count": 2,
   "metadata": {},
   "outputs": [],
   "source": [
    "def call_model(prompt: str) -> str:\n",
    "    response = ollama.chat(\n",
    "        model=MODEL,\n",
    "        messages=[{\"role\": \"user\", \"content\": prompt}],\n",
    "        keep_alive=\"1h\",\n",
    "        options={\"temperature\": TEMPERATURE},\n",
    "    )\n",
    "    return response.message.content"
   ]
  },
  {
   "cell_type": "markdown",
   "metadata": {},
   "source": [
    "## What is the task\n"
   ]
  },
  {
   "cell_type": "code",
   "execution_count": 4,
   "metadata": {},
   "outputs": [
    {
     "name": "stdout",
     "output_type": "stream",
     "text": [
      "Here is an example of an error message that can be displayed to the user when their payment fails:\n",
      "\n",
      "\"Payment Failed\n",
      "\n",
      "Unfortunately, your payment has been declined due to [insert reason for failure, e.g. insufficient funds, expired card, etc.].\n",
      "\n",
      "Please try again with a different payment method or contact our customer support team at [insert contact information] for assistance.\n",
      "\n",
      "Refund: [insert refund amount or percentage]\n",
      "\n",
      "Transaction ID: [insert transaction ID]\n",
      "\n",
      "If you have any questions or concerns about your payment, please don't hesitate to reach out. We apologize for the inconvenience and appreciate your patience.\"\n",
      "\n",
      "This error message provides the user with:\n",
      "\n",
      "* A clear explanation of what went wrong\n",
      "* An option to try again with a different payment method\n",
      "* Contact information for customer support\n",
      "* Information about any refund that may be due\n",
      "* A unique transaction ID for reference\n",
      "\n",
      "Feel free to customize this message to fit your specific use case and branding.\n",
      "CPU times: user 4.83 ms, sys: 7.5 ms, total: 12.3 ms\n",
      "Wall time: 5.95 s\n"
     ]
    }
   ],
   "source": [
    "%%time\n",
    "prompt = \"Write an error message for when a user's payment fails.\"\n",
    "response = call_model(prompt)\n",
    "print(response)"
   ]
  },
  {
   "cell_type": "markdown",
   "metadata": {},
   "source": [
    "## Give it a role\n"
   ]
  },
  {
   "cell_type": "code",
   "execution_count": 17,
   "metadata": {},
   "outputs": [
    {
     "name": "stdout",
     "output_type": "stream",
     "text": [
      "Here is an example of a clear and actionable error message for when a payment fails:\n",
      "\n",
      "**Error Message**\n",
      "\n",
      "\"Payment Failed\n",
      "\n",
      "We were unable to process your payment at this time. Please try again or contact our customer support team if you have any questions.\n",
      "\n",
      "**What to do next:**\n",
      "\n",
      "1. **Retry Payment**: Click the \"Try Again\" button to attempt another payment.\n",
      "2. **Contact Support**: Send us a message and we'll be happy to assist you with your order.\n",
      "3. **Cancel Order**: If you'd like to cancel your order, click the \"Cancel Order\" link.\n",
      "\n",
      "**Additional Help**\n",
      "\n",
      "If you're experiencing issues with recurring payments or have questions about our payment terms, please visit our [Payment Terms](link) page for more information.\"\n",
      "\n",
      "This error message aims to:\n",
      "\n",
      "1. Clearly state that the payment failed\n",
      "2. Provide a clear call-to-action (CTA) for the user to try again\n",
      "3. Offer alternative options for the user to resolve the issue\n",
      "4. Provide additional resources or support for users who need help\n",
      "\n",
      "By following these best practices, this error message aims to minimize frustration and provide a positive experience for the user despite the payment failure.\n",
      "CPU times: user 4.03 ms, sys: 5.78 ms, total: 9.81 ms\n",
      "Wall time: 5.24 s\n"
     ]
    }
   ],
   "source": [
    "%%time\n",
    "prompt = \"\"\"\n",
    "You are a UX writer specializing in clear, actionable error messages.\n",
    "\n",
    "Write an error message for when a user's payment fails.\n",
    "\"\"\".strip()\n",
    "response = call_model(prompt)\n",
    "print(response)"
   ]
  },
  {
   "cell_type": "markdown",
   "metadata": {},
   "source": [
    "## Grounding/rules\n"
   ]
  },
  {
   "cell_type": "code",
   "execution_count": 19,
   "metadata": {},
   "outputs": [
    {
     "name": "stdout",
     "output_type": "stream",
     "text": [
      "Here is a payment failure error message in 2 parts:\n",
      "\n",
      "**What happened:** \"We're having trouble processing your payment right now.\"\n",
      "\n",
      "**What to do:** \"Try again or contact our customer support team for assistance.\"\n",
      "CPU times: user 1.68 ms, sys: 2.43 ms, total: 4.12 ms\n",
      "Wall time: 2.05 s\n"
     ]
    }
   ],
   "source": [
    "%%time\n",
    "prompt = \"\"\"\n",
    "You are a UX writer specializing in clear, actionable error messages.\n",
    "\n",
    "Write a payment failure error message in 2 parts:\n",
    "\n",
    "- What happened (max 10 words)\n",
    "- What to do (max 15 words)\n",
    "\n",
    "Tone: Helpful, not technical\n",
    "Length: Maximum 25 words total\n",
    "Audience: Regular online shoppers\n",
    "\"\"\".strip()\n",
    "response = call_model(prompt)\n",
    "print(response)"
   ]
  },
  {
   "cell_type": "markdown",
   "metadata": {},
   "source": [
    "## Output format\n"
   ]
  },
  {
   "cell_type": "code",
   "execution_count": 20,
   "metadata": {},
   "outputs": [
    {
     "name": "stdout",
     "output_type": "stream",
     "text": [
      "Here's the payment failure error message in JSON format:\n",
      "\n",
      "```\n",
      "{\n",
      "  \"error\": {\n",
      "    \"whatHappened\": \"Payment processing failed due to an issue with your card.\",\n",
      "    \"whatToDo\": \"Please try again with a different payment method or contact our support team for assistance.\"\n",
      "  }\n",
      "}\n",
      "```\n",
      "CPU times: user 2.83 ms, sys: 4.01 ms, total: 6.84 ms\n",
      "Wall time: 1.73 s\n"
     ]
    }
   ],
   "source": [
    "%%time\n",
    "prompt = \"\"\"\n",
    "You are a UX writer specializing in clear, actionable error messages.\n",
    "\n",
    "Write a payment failure error message in 2 parts:\n",
    "\n",
    "- What happened (max 10 words)\n",
    "- What to do (max 15 words)\n",
    "\n",
    "Tone: Helpful, not technical\n",
    "Length: Maximum 25 words total\n",
    "Audience: Regular online shoppers\n",
    "\n",
    "The result should be a single error message that is 25 words or less. Format it as a JSON object.\n",
    "\"\"\".strip()\n",
    "response = call_model(prompt)\n",
    "print(response)"
   ]
  },
  {
   "cell_type": "markdown",
   "metadata": {},
   "source": [
    "## Examples\n"
   ]
  },
  {
   "cell_type": "code",
   "execution_count": 21,
   "metadata": {},
   "outputs": [
    {
     "name": "stdout",
     "output_type": "stream",
     "text": [
      "Here is a payment failure error message in 2 parts:\n",
      "\n",
      "{\n",
      "  \"type\": \"payment_failure\",\n",
      "  \"message\": \"Payment failed due to insufficient funds or expired card. Please try again with a different payment method or contact our support team for assistance.\"\n",
      "}\n",
      "CPU times: user 2.67 ms, sys: 4.28 ms, total: 6.95 ms\n",
      "Wall time: 1.67 s\n"
     ]
    }
   ],
   "source": [
    "%%time\n",
    "prompt = \"\"\"\n",
    "You are a UX writer specializing in clear, actionable error messages.\n",
    "\n",
    "Write a payment failure error message in 2 parts:\n",
    "\n",
    "- What happened (max 10 words)\n",
    "- What to do (max 15 words)\n",
    "\n",
    "Tone: Helpful, not technical\n",
    "Length: Maximum 25 words total\n",
    "Audience: Regular online shoppers\n",
    "\n",
    "The result should be a single error message that is 25 words or less. Format it as a JSON object.\n",
    "\n",
    "Examples:\n",
    "\n",
    "<examples>\n",
    "    <example>\n",
    "    {\n",
    "      \"type\": \"account_lockout\",\n",
    "      \"message\": \"Too many login attempts. Account temporarily locked. Please wait 15 minutes or reset your password via email.\"\n",
    "    }\n",
    "    </example>\n",
    "    <example>\n",
    "    {\n",
    "        \"type\": \"upload_size_exceeded\",\n",
    "        \"message\": \"File is too large to upload (max 10MB). Please compress the file or split it into smaller parts.\"\n",
    "    }\n",
    "    </example>\n",
    "    <example>\n",
    "    {\n",
    "        \"type\": \"network_connection\",\n",
    "        \"message\": \"Lost connection to our servers. Check your internet connection and refresh the page.\"\n",
    "    }\n",
    "    </example>\n",
    "</examples>\n",
    "\n",
    "\"\"\".strip()\n",
    "response = call_model(prompt)\n",
    "print(response)"
   ]
  },
  {
   "cell_type": "markdown",
   "metadata": {},
   "source": [
    "## Context\n"
   ]
  },
  {
   "cell_type": "code",
   "execution_count": 22,
   "metadata": {},
   "outputs": [
    {
     "name": "stdout",
     "output_type": "stream",
     "text": [
      "{\n",
      "  \"type\": \"payment_failure\",\n",
      "  \"message\": \"Your payment method has expired. Please update your card details or use a different payment method to complete the transaction.\"\n",
      "}\n",
      "CPU times: user 2.49 ms, sys: 3.77 ms, total: 6.26 ms\n",
      "Wall time: 1.25 s\n"
     ]
    }
   ],
   "source": [
    "%%time\n",
    "prompt = \"\"\"\n",
    "You are a UX writer specializing in clear, actionable error messages.\n",
    "\n",
    "Write a payment failure error message in 2 parts:\n",
    "\n",
    "- What happened (max 10 words)\n",
    "- What to do (max 15 words)\n",
    "\n",
    "Tone: Helpful, not technical\n",
    "Length: Maximum 25 words total\n",
    "Audience: Regular online shoppers\n",
    "\n",
    "The result should be a single error message that is 25 words or less. Format it as a JSON object.\n",
    "\n",
    "Examples:\n",
    "\n",
    "<examples>\n",
    "    <example>\n",
    "    {\n",
    "      \"type\": \"account_lockout\",\n",
    "      \"message\": \"Too many login attempts. Account temporarily locked. Please wait 15 minutes or reset your password via email.\"\n",
    "    }\n",
    "    </example>\n",
    "    <example>\n",
    "    {\n",
    "        \"type\": \"upload_size_exceeded\",\n",
    "        \"message\": \"File is too large to upload (max 10MB). Please compress the file or split it into smaller parts.\"\n",
    "    }\n",
    "    </example>\n",
    "    <example>\n",
    "    {\n",
    "        \"type\": \"network_connection\",\n",
    "        \"message\": \"Lost connection to our servers. Check your internet connection and refresh the page.\"\n",
    "    }\n",
    "    </example>\n",
    "</examples>\n",
    "\n",
    "<context>\n",
    "The user used a credit card that has expired.\n",
    "</context>\n",
    "\"\"\".strip()\n",
    "response = call_model(prompt)\n",
    "print(response)"
   ]
  }
 ],
 "metadata": {
  "kernelspec": {
   "display_name": ".venv",
   "language": "python",
   "name": "python3"
  },
  "language_info": {
   "codemirror_mode": {
    "name": "ipython",
    "version": 3
   },
   "file_extension": ".py",
   "mimetype": "text/x-python",
   "name": "python",
   "nbconvert_exporter": "python",
   "pygments_lexer": "ipython3",
   "version": "3.12.8"
  }
 },
 "nbformat": 4,
 "nbformat_minor": 2
}
