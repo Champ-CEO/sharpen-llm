{
 "cells": [
  {
   "cell_type": "code",
   "execution_count": 33,
   "metadata": {},
   "outputs": [
    {
     "data": {
      "text/plain": [
       "(31037, 9)"
      ]
     },
     "execution_count": 33,
     "metadata": {},
     "output_type": "execute_result"
    }
   ],
   "source": [
    "import ast\n",
    "\n",
    "import pandas as pd\n",
    "\n",
    "from bootcamp.config import Config\n",
    "\n",
    "df = pd.read_parquet(Config.Path.DATA_DIR / \"crypto-news.parquet\")\n",
    "\n",
    "sentiment_df = pd.DataFrame(list(df[\"sentiment\"].apply(ast.literal_eval).values))\n",
    "\n",
    "df = pd.concat([df.drop(\"sentiment\", axis=1), sentiment_df], axis=1)\n",
    "df.shape"
   ]
  },
  {
   "cell_type": "code",
   "execution_count": 29,
   "metadata": {},
   "outputs": [
    {
     "data": {
      "text/html": [
       "<div>\n",
       "<style scoped>\n",
       "    .dataframe tbody tr th:only-of-type {\n",
       "        vertical-align: middle;\n",
       "    }\n",
       "\n",
       "    .dataframe tbody tr th {\n",
       "        vertical-align: top;\n",
       "    }\n",
       "\n",
       "    .dataframe thead th {\n",
       "        text-align: right;\n",
       "    }\n",
       "</style>\n",
       "<table border=\"1\" class=\"dataframe\">\n",
       "  <thead>\n",
       "    <tr style=\"text-align: right;\">\n",
       "      <th></th>\n",
       "      <th>date</th>\n",
       "      <th>source</th>\n",
       "      <th>subject</th>\n",
       "      <th>text</th>\n",
       "      <th>title</th>\n",
       "      <th>url</th>\n",
       "      <th>class</th>\n",
       "      <th>polarity</th>\n",
       "      <th>subjectivity</th>\n",
       "    </tr>\n",
       "  </thead>\n",
       "  <tbody>\n",
       "    <tr>\n",
       "      <th>0</th>\n",
       "      <td>2023-12-19 06:40:41</td>\n",
       "      <td>CryptoNews</td>\n",
       "      <td>altcoin</td>\n",
       "      <td>Grayscale CEO Michael Sonnenshein believes the...</td>\n",
       "      <td>Grayscale CEO Calls for Simultaneous Approval ...</td>\n",
       "      <td>https://cryptonews.comhttps://cryptonews.com/n...</td>\n",
       "      <td>negative</td>\n",
       "      <td>-0.10</td>\n",
       "      <td>0.60</td>\n",
       "    </tr>\n",
       "    <tr>\n",
       "      <th>1</th>\n",
       "      <td>2023-12-19 06:03:24</td>\n",
       "      <td>CryptoNews</td>\n",
       "      <td>blockchain</td>\n",
       "      <td>In an exclusive interview with CryptoNews, Man...</td>\n",
       "      <td>Indian Government is Actively Collaborating Wi...</td>\n",
       "      <td>https://cryptonews.comhttps://cryptonews.com/n...</td>\n",
       "      <td>neutral</td>\n",
       "      <td>0.00</td>\n",
       "      <td>0.00</td>\n",
       "    </tr>\n",
       "    <tr>\n",
       "      <th>2</th>\n",
       "      <td>2023-12-19 05:55:14</td>\n",
       "      <td>CryptoNews</td>\n",
       "      <td>blockchain</td>\n",
       "      <td>According to the Federal Court ruling on Decem...</td>\n",
       "      <td>Judge Approves Settlement: Binance to Pay $1.5...</td>\n",
       "      <td>https://cryptonews.comhttps://cryptonews.com/n...</td>\n",
       "      <td>positive</td>\n",
       "      <td>0.05</td>\n",
       "      <td>0.05</td>\n",
       "    </tr>\n",
       "    <tr>\n",
       "      <th>3</th>\n",
       "      <td>2023-12-19 05:35:26</td>\n",
       "      <td>CoinTelegraph</td>\n",
       "      <td>blockchain</td>\n",
       "      <td>Some suggest EVM inscriptions are the latest w...</td>\n",
       "      <td>Why a gold rush for inscriptions has broken ha...</td>\n",
       "      <td>https://cointelegraph.com/news/inscriptions-ev...</td>\n",
       "      <td>positive</td>\n",
       "      <td>0.50</td>\n",
       "      <td>0.90</td>\n",
       "    </tr>\n",
       "    <tr>\n",
       "      <th>4</th>\n",
       "      <td>2023-12-19 05:31:08</td>\n",
       "      <td>CoinTelegraph</td>\n",
       "      <td>ethereum</td>\n",
       "      <td>A decision by bloXroute Labs to start censorin...</td>\n",
       "      <td>‘Concerning precedent’ — bloXroute Labs' MEV r...</td>\n",
       "      <td>https://cointelegraph.com/news/concerning-prec...</td>\n",
       "      <td>neutral</td>\n",
       "      <td>0.00</td>\n",
       "      <td>0.00</td>\n",
       "    </tr>\n",
       "  </tbody>\n",
       "</table>\n",
       "</div>"
      ],
      "text/plain": [
       "                  date         source     subject  \\\n",
       "0  2023-12-19 06:40:41     CryptoNews     altcoin   \n",
       "1  2023-12-19 06:03:24     CryptoNews  blockchain   \n",
       "2  2023-12-19 05:55:14     CryptoNews  blockchain   \n",
       "3  2023-12-19 05:35:26  CoinTelegraph  blockchain   \n",
       "4  2023-12-19 05:31:08  CoinTelegraph    ethereum   \n",
       "\n",
       "                                                text  \\\n",
       "0  Grayscale CEO Michael Sonnenshein believes the...   \n",
       "1  In an exclusive interview with CryptoNews, Man...   \n",
       "2  According to the Federal Court ruling on Decem...   \n",
       "3  Some suggest EVM inscriptions are the latest w...   \n",
       "4  A decision by bloXroute Labs to start censorin...   \n",
       "\n",
       "                                               title  \\\n",
       "0  Grayscale CEO Calls for Simultaneous Approval ...   \n",
       "1  Indian Government is Actively Collaborating Wi...   \n",
       "2  Judge Approves Settlement: Binance to Pay $1.5...   \n",
       "3  Why a gold rush for inscriptions has broken ha...   \n",
       "4  ‘Concerning precedent’ — bloXroute Labs' MEV r...   \n",
       "\n",
       "                                                 url     class  polarity  \\\n",
       "0  https://cryptonews.comhttps://cryptonews.com/n...  negative     -0.10   \n",
       "1  https://cryptonews.comhttps://cryptonews.com/n...   neutral      0.00   \n",
       "2  https://cryptonews.comhttps://cryptonews.com/n...  positive      0.05   \n",
       "3  https://cointelegraph.com/news/inscriptions-ev...  positive      0.50   \n",
       "4  https://cointelegraph.com/news/concerning-prec...   neutral      0.00   \n",
       "\n",
       "   subjectivity  \n",
       "0          0.60  \n",
       "1          0.00  \n",
       "2          0.05  \n",
       "3          0.90  \n",
       "4          0.00  "
      ]
     },
     "execution_count": 29,
     "metadata": {},
     "output_type": "execute_result"
    }
   ],
   "source": [
    "df.head()"
   ]
  },
  {
   "cell_type": "code",
   "execution_count": 30,
   "metadata": {},
   "outputs": [
    {
     "data": {
      "image/png": "[encoded data removed]",
      "text/plain": [
       "<Figure size 640x480 with 1 Axes>"
      ]
     },
     "metadata": {},
     "output_type": "display_data"
    }
   ],
   "source": [
    "df.text.str.split().apply(len).hist(bins=50);"
   ]
  },
  {
   "cell_type": "code",
   "execution_count": 32,
   "metadata": {},
   "outputs": [
    {
     "data": {
      "image/png": "[encoded data removed]",
      "text/plain": [
       "<Figure size 640x480 with 1 Axes>"
      ]
     },
     "metadata": {},
     "output_type": "display_data"
    }
   ],
   "source": [
    "df[\"class\"].value_counts().plot(kind=\"bar\");"
   ]
  },
  {
   "cell_type": "code",
   "execution_count": 31,
   "metadata": {},
   "outputs": [
    {
     "data": {
      "image/png": "[encoded data removed]",
      "text/plain": [
       "<Figure size 640x480 with 1 Axes>"
      ]
     },
     "metadata": {},
     "output_type": "display_data"
    }
   ],
   "source": [
    "df.subject.value_counts().plot(kind=\"bar\");"
   ]
  },
  {
   "cell_type": "markdown",
   "metadata": {},
   "source": [
    "## Emails\n"
   ]
  },
  {
   "cell_type": "code",
   "execution_count": 37,
   "metadata": {},
   "outputs": [
    {
     "data": {
      "text/html": [
       "<div>\n",
       "<style scoped>\n",
       "    .dataframe tbody tr th:only-of-type {\n",
       "        vertical-align: middle;\n",
       "    }\n",
       "\n",
       "    .dataframe tbody tr th {\n",
       "        vertical-align: top;\n",
       "    }\n",
       "\n",
       "    .dataframe thead th {\n",
       "        text-align: right;\n",
       "    }\n",
       "</style>\n",
       "<table border=\"1\" class=\"dataframe\">\n",
       "  <thead>\n",
       "    <tr style=\"text-align: right;\">\n",
       "      <th></th>\n",
       "      <th>conversation_id</th>\n",
       "      <th>email</th>\n",
       "      <th>maximum_brevity_summary</th>\n",
       "      <th>summary</th>\n",
       "      <th>model_name</th>\n",
       "      <th>distilabel_metadata.raw_input_email_summarization_0</th>\n",
       "      <th>distilabel_metadata.raw_output_email_summarization_0</th>\n",
       "    </tr>\n",
       "    <tr>\n",
       "      <th>index</th>\n",
       "      <th></th>\n",
       "      <th></th>\n",
       "      <th></th>\n",
       "      <th></th>\n",
       "      <th></th>\n",
       "      <th></th>\n",
       "      <th></th>\n",
       "    </tr>\n",
       "  </thead>\n",
       "  <tbody>\n",
       "    <tr>\n",
       "      <th>93990</th>\n",
       "      <td>358</td>\n",
       "      <td>Subject: Following up from the interfaith even...</td>\n",
       "      <td>Samantha is following up from the interfaith e...</td>\n",
       "      <td>Samantha met at the interfaith event and enjoy...</td>\n",
       "      <td>Qwen/Qwen2.5-72B-Instruct</td>\n",
       "      <td>None</td>\n",
       "      <td>## Maximum brevity summary\\n\\nSamantha is foll...</td>\n",
       "    </tr>\n",
       "    <tr>\n",
       "      <th>45571</th>\n",
       "      <td>241</td>\n",
       "      <td>Subject: RE: Checking in and seeking your valu...</td>\n",
       "      <td>Jenna is excited to collaborate on a workshop ...</td>\n",
       "      <td>Jenna thanks Marcus for sharing an article and...</td>\n",
       "      <td>Qwen/Qwen2.5-72B-Instruct</td>\n",
       "      <td>None</td>\n",
       "      <td>## Maximum brevity summary\\n\\nJenna is excited...</td>\n",
       "    </tr>\n",
       "    <tr>\n",
       "      <th>46400</th>\n",
       "      <td>491</td>\n",
       "      <td>Subject: Interesting developments in the natur...</td>\n",
       "      <td>John is reaching out to discuss the impact of ...</td>\n",
       "      <td>John is reaching out to discuss the recent dis...</td>\n",
       "      <td>Qwen/Qwen2.5-72B-Instruct</td>\n",
       "      <td>None</td>\n",
       "      <td>## Maximum brevity summary\\n\\nJohn is reaching...</td>\n",
       "    </tr>\n",
       "    <tr>\n",
       "      <th>49664</th>\n",
       "      <td>512</td>\n",
       "      <td>Subject: Seeking your expertise on a new e-lea...</td>\n",
       "      <td>Emily is seeking input on an e-learning course...</td>\n",
       "      <td>Emily is reaching out for input and expertise ...</td>\n",
       "      <td>Qwen/Qwen2.5-72B-Instruct</td>\n",
       "      <td>None</td>\n",
       "      <td>## Maximum brevity summary\\n\\nEmily is seeking...</td>\n",
       "    </tr>\n",
       "    <tr>\n",
       "      <th>96963</th>\n",
       "      <td>277</td>\n",
       "      <td>Subject: Reconnecting and collaboration idea\\n...</td>\n",
       "      <td>Sarah proposes collaborating on educational re...</td>\n",
       "      <td>Sarah expresses interest in collaborating on a...</td>\n",
       "      <td>Qwen/Qwen2.5-72B-Instruct</td>\n",
       "      <td>None</td>\n",
       "      <td>## Maximum brevity summary\\n\\nSarah proposes c...</td>\n",
       "    </tr>\n",
       "  </tbody>\n",
       "</table>\n",
       "</div>"
      ],
      "text/plain": [
       "       conversation_id                                              email  \\\n",
       "index                                                                       \n",
       "93990              358  Subject: Following up from the interfaith even...   \n",
       "45571              241  Subject: RE: Checking in and seeking your valu...   \n",
       "46400              491  Subject: Interesting developments in the natur...   \n",
       "49664              512  Subject: Seeking your expertise on a new e-lea...   \n",
       "96963              277  Subject: Reconnecting and collaboration idea\\n...   \n",
       "\n",
       "                                 maximum_brevity_summary  \\\n",
       "index                                                      \n",
       "93990  Samantha is following up from the interfaith e...   \n",
       "45571  Jenna is excited to collaborate on a workshop ...   \n",
       "46400  John is reaching out to discuss the impact of ...   \n",
       "49664  Emily is seeking input on an e-learning course...   \n",
       "96963  Sarah proposes collaborating on educational re...   \n",
       "\n",
       "                                                 summary  \\\n",
       "index                                                      \n",
       "93990  Samantha met at the interfaith event and enjoy...   \n",
       "45571  Jenna thanks Marcus for sharing an article and...   \n",
       "46400  John is reaching out to discuss the recent dis...   \n",
       "49664  Emily is reaching out for input and expertise ...   \n",
       "96963  Sarah expresses interest in collaborating on a...   \n",
       "\n",
       "                      model_name  \\\n",
       "index                              \n",
       "93990  Qwen/Qwen2.5-72B-Instruct   \n",
       "45571  Qwen/Qwen2.5-72B-Instruct   \n",
       "46400  Qwen/Qwen2.5-72B-Instruct   \n",
       "49664  Qwen/Qwen2.5-72B-Instruct   \n",
       "96963  Qwen/Qwen2.5-72B-Instruct   \n",
       "\n",
       "      distilabel_metadata.raw_input_email_summarization_0  \\\n",
       "index                                                       \n",
       "93990                                               None    \n",
       "45571                                               None    \n",
       "46400                                               None    \n",
       "49664                                               None    \n",
       "96963                                               None    \n",
       "\n",
       "      distilabel_metadata.raw_output_email_summarization_0  \n",
       "index                                                       \n",
       "93990  ## Maximum brevity summary\\n\\nSamantha is foll...    \n",
       "45571  ## Maximum brevity summary\\n\\nJenna is excited...    \n",
       "46400  ## Maximum brevity summary\\n\\nJohn is reaching...    \n",
       "49664  ## Maximum brevity summary\\n\\nEmily is seeking...    \n",
       "96963  ## Maximum brevity summary\\n\\nSarah proposes c...    "
      ]
     },
     "execution_count": 37,
     "metadata": {},
     "output_type": "execute_result"
    }
   ],
   "source": [
    "df = pd.read_parquet(Config.Path.DATA_DIR / \"email-summaries.parquet\")\n",
    "df.head()"
   ]
  },
  {
   "cell_type": "code",
   "execution_count": 38,
   "metadata": {},
   "outputs": [
    {
     "data": {
      "image/png": "[encoded data removed]",
      "text/plain": [
       "<Figure size 640x480 with 1 Axes>"
      ]
     },
     "metadata": {},
     "output_type": "display_data"
    }
   ],
   "source": [
    "df.email.str.split().apply(len).hist(bins=50);"
   ]
  }
 ],
 "metadata": {
  "kernelspec": {
   "display_name": ".venv",
   "language": "python",
   "name": "python3"
  },
  "language_info": {
   "codemirror_mode": {
    "name": "ipython",
    "version": 3
   },
   "file_extension": ".py",
   "mimetype": "text/x-python",
   "name": "python",
   "nbconvert_exporter": "python",
   "pygments_lexer": "ipython3",
   "version": "3.12.8"
  }
 },
 "nbformat": 4,
 "nbformat_minor": 2
}
